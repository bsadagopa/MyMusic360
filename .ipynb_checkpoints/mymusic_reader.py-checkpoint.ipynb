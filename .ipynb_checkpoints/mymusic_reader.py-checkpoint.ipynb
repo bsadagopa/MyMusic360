{
 "cells": [
  {
   "cell_type": "code",
   "execution_count": 9,
   "metadata": {},
   "outputs": [],
   "source": [
    "#!/usr/bin/env python\n",
    "####################################\n",
    "# File name: mymusic_reader.py     #\n",
    "# Author:  Balaji K Sadagopa       #\n",
    "####################################\n",
    "from cv2 import *"
   ]
  },
  {
   "cell_type": "code",
   "execution_count": null,
   "metadata": {},
   "outputs": [],
   "source": [
    "cam = VideoCapture(0)   # 0 -> index of camera\n",
    "s, img = cam.read()\n",
    "if s:    # frame captured without any errors\n",
    "   namedWindow(\"cam-test\")\n",
    "   imshow(\"cam-test\",img)\n",
    "   destroyWindow(\"cam-test\")\n",
    "   imwrite(\"mm360_filename.jpg\",img) #save image"
   ]
  },
  {
   "cell_type": "code",
   "execution_count": 2,
   "metadata": {},
   "outputs": [],
   "source": [
    "# import necessary libraries, you need to have previously installed # these via pip \n",
    "\n",
    "import requests\n",
    "# Replace 'KEY_1' with your subscription key as a string\n",
    "subscription_key = '0699e543b5874c18b121d87671317d8a'\n",
    "filename = './mm360_filename.jpg'\n",
    "# Replace or verify the region.\n",
    "#\n",
    "# You must use the same region in your REST API call as you used to obtain your subscription keys.\n",
    "# For example, if you obtained your subscription keys from the westus region, replace \n",
    "# \"westcentralus\" in the URI below with \"westus\".\n",
    "#\n",
    "# NOTE: Free trial subscription keys are generated in the westcentralus region, so if you are using\n",
    "# a free trial subscription key, you should not need to change this region.\n",
    "#uri_base = 'https://westcentralus.api.cognitive.microsoft.com'\n",
    "uri_base = 'https://southcentralus.api.cognitive.microsoft.com/face/v1.0/detect'"
   ]
  },
  {
   "cell_type": "code",
   "execution_count": 5,
   "metadata": {},
   "outputs": [],
   "source": [
    "# Request headers\n",
    "# for locally stored image files use\n",
    "# 'Content-Type': 'application/octet-stream'\n",
    "headers = {\n",
    "     'Content-Type': 'application/octet-stream',\n",
    "     'Ocp-Apim-Subscription-Key': subscription_key,\n",
    "}\n",
    "# Request parameters \n",
    "# The detection options for MCS Face API check MCS face api \n",
    "# documentation for complete list of features available for \n",
    "# detection in an image\n",
    "# these parameters tell the api I want to detect a face and a smile\n",
    "params = {\n",
    "    'returnFaceId': 'true',\n",
    "    'returnFaceLandmarks': 'false',\n",
    "    'returnFaceAttributes': 'emotion'\n",
    "    #'returnFaceAttributes': 'age,gender,headPose,smile,facialHair,glasses,' +\n",
    "    #'emotion,hair,makeup,occlusion,accessories,blur,exposure,noise'\n",
    "}\n"
   ]
  },
  {
   "cell_type": "code",
   "execution_count": 6,
   "metadata": {},
   "outputs": [
    {
     "name": "stdout",
     "output_type": "stream",
     "text": [
      "Response:\n",
      "[{'faceId': '4d2dea1a-e7d6-452e-afec-abf9acb96ba1', 'faceRectangle': {'top': 1015, 'left': 631, 'width': 1728, 'height': 1728}, 'faceAttributes': {'emotion': {'anger': 0.0, 'contempt': 0.001, 'disgust': 0.0, 'fear': 0.0, 'happiness': 0.496, 'neutral': 0.478, 'sadness': 0.0, 'surprise': 0.025}}}]\n"
     ]
    }
   ],
   "source": [
    "# open jpg file as binary file data for intake by the MCS api\n",
    "with open(filename, 'rb') as f:\n",
    "    img_data = f.read()\n",
    "try:\n",
    "    # Execute the api call as a POST request. \n",
    "    # What's happening?: You're sending the data, headers and\n",
    "    # parameter to the api route & saving the\n",
    "    # mcs server's response to a variable.\n",
    "    # Note: mcs face api only returns 1 analysis at time\n",
    "    response = requests.post(uri_base,\n",
    "                             data=img_data, \n",
    "                             headers=headers,\n",
    "                             params=params)\n",
    "    \n",
    "    print ('Response:')\n",
    "    # json() is a method from the request library that converts \n",
    "    # the json reponse to a python friendly data structure\n",
    "    parsed = response.json()\n",
    "        \n",
    "    # display the image analysis data\n",
    "    print (parsed)\n",
    "\n",
    "        \n",
    "except Exception as e:\n",
    "    print('Error:')\n",
    "    print(e)"
   ]
  },
  {
   "cell_type": "code",
   "execution_count": 7,
   "metadata": {},
   "outputs": [
    {
     "data": {
      "text/plain": [
       "{'returnFaceId': 'true',\n",
       " 'returnFaceLandmarks': 'false',\n",
       " 'returnFaceAttributes': 'emotion'}"
      ]
     },
     "execution_count": 7,
     "metadata": {},
     "output_type": "execute_result"
    }
   ],
   "source": [
    "params"
   ]
  },
  {
   "cell_type": "code",
   "execution_count": 8,
   "metadata": {},
   "outputs": [],
   "source": [
    "from cv2 import *\n",
    "# initialize the camera\n",
    "cam = VideoCapture(0)   # 0 -> index of camera\n",
    "s, img = cam.read()\n",
    "if s:    # frame captured without any errors\n",
    "   namedWindow(\"cam-test\")\n",
    "   imshow(\"cam-test\",img)\n",
    "   destroyWindow(\"cam-test\")\n",
    "   imwrite(\"mm360_filename.jpg\",img) #save image"
   ]
  },
  {
   "cell_type": "code",
   "execution_count": null,
   "metadata": {},
   "outputs": [],
   "source": []
  },
  {
   "cell_type": "code",
   "execution_count": null,
   "metadata": {},
   "outputs": [],
   "source": []
  },
  {
   "cell_type": "code",
   "execution_count": null,
   "metadata": {},
   "outputs": [],
   "source": []
  }
 ],
 "metadata": {
  "kernelspec": {
   "display_name": "Python 3",
   "language": "python",
   "name": "python3"
  },
  "language_info": {
   "codemirror_mode": {
    "name": "ipython",
    "version": 3
   },
   "file_extension": ".py",
   "mimetype": "text/x-python",
   "name": "python",
   "nbconvert_exporter": "python",
   "pygments_lexer": "ipython3",
   "version": "3.6.5"
  }
 },
 "nbformat": 4,
 "nbformat_minor": 2
}
